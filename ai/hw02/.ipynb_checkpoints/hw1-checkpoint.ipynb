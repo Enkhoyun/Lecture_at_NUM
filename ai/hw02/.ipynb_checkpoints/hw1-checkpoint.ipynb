{
 "cells": [
  {
   "cell_type": "markdown",
   "metadata": {},
   "source": [
    "<img width=300 height=300 src=\"vacuum.webp\">"
   ]
  },
  {
   "cell_type": "markdown",
   "metadata": {},
   "source": [
    "## CS 470 Artificial Intelligence hw1\n",
    "\n",
    "You are to edit the file hw1.py, as described in the instructions.\n",
    "We have provided a solution file, hw1a.pyc, which is compiled bytecode that you may run.\n",
    "\n",
    "Below we demonstrate the code, both with and without graphics."
   ]
  },
  {
   "cell_type": "code",
   "execution_count": 1,
   "metadata": {},
   "outputs": [],
   "source": [
    "from lab02s import *"
   ]
  },
  {
   "cell_type": "code",
   "execution_count": 2,
   "metadata": {},
   "outputs": [],
   "source": [
    "gv = GraphicVacuumEnvironment(10,10,bias=0.5,color={'Agent': (200,0,0), 'Dirt': (230, 115, 40), 'Wall': (100,100,100)})"
   ]
  },
  {
   "cell_type": "code",
   "execution_count": 3,
   "metadata": {},
   "outputs": [
    {
     "data": {
      "text/plain": [
       "[[[<Wall>],\n",
       "  [<Wall>],\n",
       "  [<Wall>],\n",
       "  [<Wall>],\n",
       "  [<Wall>],\n",
       "  [<Wall>],\n",
       "  [<Wall>],\n",
       "  [<Wall>],\n",
       "  [<Wall>],\n",
       "  [<Wall>]],\n",
       " [[<Wall>], [<Dirt>, <Agent>], [], [<Dirt>], [], [], [], [], [], [<Wall>]],\n",
       " [[<Wall>], [<Dirt>], [], [], [], [], [<Dirt>], [], [<Dirt>], [<Wall>]],\n",
       " [[<Wall>], [], [<Dirt>], [], [<Dirt>], [], [], [<Dirt>], [], [<Wall>]],\n",
       " [[<Wall>], [], [], [<Dirt>], [<Dirt>], [], [], [], [], [<Wall>]],\n",
       " [[<Wall>],\n",
       "  [<Dirt>],\n",
       "  [<Dirt>],\n",
       "  [<Dirt>],\n",
       "  [<Dirt>],\n",
       "  [],\n",
       "  [<Dirt>],\n",
       "  [],\n",
       "  [<Dirt>],\n",
       "  [<Wall>]],\n",
       " [[<Wall>], [], [], [], [<Dirt>], [], [], [<Dirt>], [<Dirt>], [<Wall>]],\n",
       " [[<Wall>], [<Dirt>], [], [], [], [<Dirt>], [], [], [], [<Wall>]],\n",
       " [[<Wall>], [<Dirt>], [<Dirt>], [<Dirt>], [], [], [], [], [], [<Wall>]],\n",
       " [[<Wall>],\n",
       "  [<Wall>],\n",
       "  [<Wall>],\n",
       "  [<Wall>],\n",
       "  [<Wall>],\n",
       "  [<Wall>],\n",
       "  [<Wall>],\n",
       "  [<Wall>],\n",
       "  [<Wall>],\n",
       "  [<Wall>]]]"
      ]
     },
     "execution_count": 3,
     "metadata": {},
     "output_type": "execute_result"
    }
   ],
   "source": [
    "rv = TraceAgent(BetterReflexVacuumAgent())\n",
    "gv.add_thing(rv)\n",
    "gv.get_world()"
   ]
  },
  {
   "cell_type": "code",
   "execution_count": 4,
   "metadata": {},
   "outputs": [
    {
     "data": {
      "text/plain": [
       "0"
      ]
     },
     "execution_count": 4,
     "metadata": {},
     "output_type": "execute_result"
    }
   ],
   "source": [
    "rv.performance"
   ]
  },
  {
   "cell_type": "code",
   "execution_count": 5,
   "metadata": {},
   "outputs": [
    {
     "data": {
      "text/plain": [
       "(1, 1)"
      ]
     },
     "execution_count": 5,
     "metadata": {},
     "output_type": "execute_result"
    }
   ],
   "source": [
    "rv.location"
   ]
  },
  {
   "cell_type": "code",
   "execution_count": 17,
   "metadata": {},
   "outputs": [
    {
     "ename": "AttributeError",
     "evalue": "module 'collections' has no attribute 'Iterable'",
     "output_type": "error",
     "traceback": [
      "\u001b[0;31m---------------------------------------------------------------------------\u001b[0m",
      "\u001b[0;31mAttributeError\u001b[0m                            Traceback (most recent call last)",
      "Cell \u001b[0;32mIn[17], line 1\u001b[0m\n\u001b[0;32m----> 1\u001b[0m \u001b[43mgv\u001b[49m\u001b[38;5;241;43m.\u001b[39;49m\u001b[43mrun\u001b[49m\u001b[43m(\u001b[49m\u001b[38;5;241;43m10\u001b[39;49m\u001b[43m)\u001b[49m\n",
      "File \u001b[0;32m~/coding/Lecture_at_NUM/ai/hw02/lab02s.py:97\u001b[0m, in \u001b[0;36mGraphicVacuumEnvironment.run\u001b[0;34m(self, steps, delay)\u001b[0m\n\u001b[1;32m     94\u001b[0m \u001b[38;5;250m\u001b[39m\u001b[38;5;124;03m\"\"\"Run the Environment for given number of time steps,\u001b[39;00m\n\u001b[1;32m     95\u001b[0m \u001b[38;5;124;03mbut update the GUI too.\"\"\"\u001b[39;00m\n\u001b[1;32m     96\u001b[0m \u001b[38;5;28;01mfor\u001b[39;00m step \u001b[38;5;129;01min\u001b[39;00m \u001b[38;5;28mrange\u001b[39m(steps):\n\u001b[0;32m---> 97\u001b[0m     \u001b[38;5;28;43mself\u001b[39;49m\u001b[38;5;241;43m.\u001b[39;49m\u001b[43mupdate\u001b[49m\u001b[43m(\u001b[49m\u001b[43mdelay\u001b[49m\u001b[43m)\u001b[49m\n\u001b[1;32m     98\u001b[0m     \u001b[38;5;28;01mif\u001b[39;00m \u001b[38;5;28mself\u001b[39m\u001b[38;5;241m.\u001b[39mis_done():\n\u001b[1;32m     99\u001b[0m         \u001b[38;5;28;01mbreak\u001b[39;00m\n",
      "File \u001b[0;32m~/coding/Lecture_at_NUM/ai/hw02/lab02s.py:111\u001b[0m, in \u001b[0;36mGraphicVacuumEnvironment.update\u001b[0;34m(self, delay)\u001b[0m\n\u001b[1;32m    109\u001b[0m     \u001b[38;5;28mself\u001b[39m\u001b[38;5;241m.\u001b[39mreveal()\n\u001b[1;32m    110\u001b[0m \u001b[38;5;28;01melse\u001b[39;00m:\n\u001b[0;32m--> 111\u001b[0m     \u001b[38;5;28;43mself\u001b[39;49m\u001b[38;5;241;43m.\u001b[39;49m\u001b[43mreveal\u001b[49m\u001b[43m(\u001b[49m\u001b[43m)\u001b[49m\n",
      "File \u001b[0;32m~/coding/Lecture_at_NUM/ai/hw02/lab02s.py:116\u001b[0m, in \u001b[0;36mGraphicVacuumEnvironment.reveal\u001b[0;34m(self)\u001b[0m\n\u001b[1;32m    113\u001b[0m \u001b[38;5;28;01mdef\u001b[39;00m \u001b[38;5;21mreveal\u001b[39m(\u001b[38;5;28mself\u001b[39m):\n\u001b[1;32m    114\u001b[0m \u001b[38;5;250m    \u001b[39m\u001b[38;5;124;03m\"\"\"Display the BlockGrid for this world - the last thing to be added\u001b[39;00m\n\u001b[1;32m    115\u001b[0m \u001b[38;5;124;03m    at a location defines the location color.\"\"\"\u001b[39;00m\n\u001b[0;32m--> 116\u001b[0m     \u001b[38;5;28;43mself\u001b[39;49m\u001b[38;5;241;43m.\u001b[39;49m\u001b[43mdraw_world\u001b[49m\u001b[43m(\u001b[49m\u001b[43m)\u001b[49m\n\u001b[1;32m    117\u001b[0m     \u001b[38;5;28mself\u001b[39m\u001b[38;5;241m.\u001b[39mgrid\u001b[38;5;241m.\u001b[39mshow()\n\u001b[1;32m    118\u001b[0m     \u001b[38;5;28mself\u001b[39m\u001b[38;5;241m.\u001b[39mvisible \u001b[38;5;241m=\u001b[39m \u001b[38;5;28;01mTrue\u001b[39;00m\n",
      "File \u001b[0;32m~/coding/Lecture_at_NUM/ai/hw02/lab02s.py:121\u001b[0m, in \u001b[0;36mGraphicVacuumEnvironment.draw_world\u001b[0;34m(self)\u001b[0m\n\u001b[1;32m    120\u001b[0m \u001b[38;5;28;01mdef\u001b[39;00m \u001b[38;5;21mdraw_world\u001b[39m(\u001b[38;5;28mself\u001b[39m):\n\u001b[0;32m--> 121\u001b[0m     \u001b[38;5;28;43mself\u001b[39;49m\u001b[38;5;241;43m.\u001b[39;49m\u001b[43mgrid\u001b[49m\u001b[43m[\u001b[49m\u001b[43m:\u001b[49m\u001b[43m]\u001b[49m \u001b[38;5;241m=\u001b[39m (\u001b[38;5;241m200\u001b[39m, \u001b[38;5;241m200\u001b[39m, \u001b[38;5;241m200\u001b[39m)\n\u001b[1;32m    122\u001b[0m     world \u001b[38;5;241m=\u001b[39m \u001b[38;5;28mself\u001b[39m\u001b[38;5;241m.\u001b[39mget_world()\n\u001b[1;32m    123\u001b[0m     \u001b[38;5;28;01mfor\u001b[39;00m x \u001b[38;5;129;01min\u001b[39;00m \u001b[38;5;28mrange\u001b[39m(\u001b[38;5;241m0\u001b[39m, \u001b[38;5;28mlen\u001b[39m(world)):\n",
      "File \u001b[0;32m/opt/homebrew/lib/python3.11/site-packages/ipythonblocks/ipythonblocks.py:572\u001b[0m, in \u001b[0;36mBlockGrid.__setitem__\u001b[0;34m(self, index, value)\u001b[0m\n\u001b[1;32m    569\u001b[0m     \u001b[38;5;28;01melse\u001b[39;00m:\n\u001b[1;32m    570\u001b[0m         \u001b[38;5;28;01mraise\u001b[39;00m \u001b[38;5;167;01mTypeError\u001b[39;00m(\u001b[38;5;124m'\u001b[39m\u001b[38;5;124mCannot assign grid to single block.\u001b[39m\u001b[38;5;124m'\u001b[39m)\n\u001b[0;32m--> 572\u001b[0m \u001b[38;5;28;01melif\u001b[39;00m \u001b[38;5;28misinstance\u001b[39m(value, (\u001b[43mcollections\u001b[49m\u001b[38;5;241;43m.\u001b[39;49m\u001b[43mIterable\u001b[49m, Block)):\n\u001b[1;32m    573\u001b[0m     \u001b[38;5;28;01mfor\u001b[39;00m b \u001b[38;5;129;01min\u001b[39;00m _flatten(thing):\n\u001b[1;32m    574\u001b[0m         b\u001b[38;5;241m.\u001b[39m_update(value)\n",
      "\u001b[0;31mAttributeError\u001b[0m: module 'collections' has no attribute 'Iterable'"
     ]
    }
   ],
   "source": [
    "gv.run(10)"
   ]
  },
  {
   "cell_type": "code",
   "execution_count": null,
   "metadata": {},
   "outputs": [],
   "source": [
    "rv.location"
   ]
  },
  {
   "cell_type": "code",
   "execution_count": null,
   "metadata": {},
   "outputs": [],
   "source": [
    "rv.performance"
   ]
  },
  {
   "cell_type": "markdown",
   "metadata": {},
   "source": [
    "Now we create a vacuum world without graphics."
   ]
  },
  {
   "cell_type": "code",
   "execution_count": 7,
   "metadata": {},
   "outputs": [],
   "source": [
    "nve = NewVacuumEnvironment(10,10,bias=0.5)"
   ]
  },
  {
   "cell_type": "code",
   "execution_count": 8,
   "metadata": {},
   "outputs": [
    {
     "data": {
      "text/plain": [
       "[[[<Wall>],\n",
       "  [<Wall>],\n",
       "  [<Wall>],\n",
       "  [<Wall>],\n",
       "  [<Wall>],\n",
       "  [<Wall>],\n",
       "  [<Wall>],\n",
       "  [<Wall>],\n",
       "  [<Wall>],\n",
       "  [<Wall>]],\n",
       " [[<Wall>], [<Agent>], [], [<Dirt>], [], [], [<Dirt>], [], [<Dirt>], [<Wall>]],\n",
       " [[<Wall>], [<Dirt>], [<Dirt>], [], [<Dirt>], [<Dirt>], [], [], [], [<Wall>]],\n",
       " [[<Wall>], [<Dirt>], [], [], [<Dirt>], [], [<Dirt>], [<Dirt>], [], [<Wall>]],\n",
       " [[<Wall>], [], [], [<Dirt>], [], [<Dirt>], [<Dirt>], [<Dirt>], [], [<Wall>]],\n",
       " [[<Wall>],\n",
       "  [<Dirt>],\n",
       "  [],\n",
       "  [],\n",
       "  [],\n",
       "  [<Dirt>],\n",
       "  [<Dirt>],\n",
       "  [<Dirt>],\n",
       "  [<Dirt>],\n",
       "  [<Wall>]],\n",
       " [[<Wall>],\n",
       "  [<Dirt>],\n",
       "  [<Dirt>],\n",
       "  [],\n",
       "  [<Dirt>],\n",
       "  [<Dirt>],\n",
       "  [<Dirt>],\n",
       "  [],\n",
       "  [],\n",
       "  [<Wall>]],\n",
       " [[<Wall>], [<Dirt>], [<Dirt>], [], [], [], [], [], [<Dirt>], [<Wall>]],\n",
       " [[<Wall>],\n",
       "  [<Dirt>],\n",
       "  [<Dirt>],\n",
       "  [<Dirt>],\n",
       "  [],\n",
       "  [<Dirt>],\n",
       "  [<Dirt>],\n",
       "  [<Dirt>],\n",
       "  [<Dirt>],\n",
       "  [<Wall>]],\n",
       " [[<Wall>],\n",
       "  [<Wall>],\n",
       "  [<Wall>],\n",
       "  [<Wall>],\n",
       "  [<Wall>],\n",
       "  [<Wall>],\n",
       "  [<Wall>],\n",
       "  [<Wall>],\n",
       "  [<Wall>],\n",
       "  [<Wall>]]]"
      ]
     },
     "execution_count": 8,
     "metadata": {},
     "output_type": "execute_result"
    }
   ],
   "source": [
    "nrv = TraceAgent(BetterReflexVacuumAgent())\n",
    "nve.add_thing(nrv)\n",
    "nve.get_world()"
   ]
  },
  {
   "cell_type": "code",
   "execution_count": 9,
   "metadata": {},
   "outputs": [
    {
     "name": "stdout",
     "output_type": "stream",
     "text": [
      "<Agent> perceives ('Clean', 'None') and does Down at (1, 1)\n",
      "<Agent> perceives ('Clean', 'None') and does Right at (1, 2)\n",
      "<Agent> perceives ('Dirty', 'None') and does Suck at (2, 2)\n",
      "<Agent> perceives ('Clean', 'None') and does Right at (2, 2)\n",
      "<Agent> perceives ('Clean', 'None') and does Up at (3, 2)\n",
      "<Agent> perceives ('Dirty', 'None') and does Suck at (3, 1)\n",
      "<Agent> perceives ('Clean', 'None') and does Down at (3, 1)\n",
      "<Agent> perceives ('Clean', 'None') and does Left at (3, 2)\n",
      "<Agent> perceives ('Clean', 'None') and does Up at (2, 2)\n",
      "<Agent> perceives ('Dirty', 'None') and does Suck at (2, 1)\n"
     ]
    }
   ],
   "source": [
    "nve.run(10)"
   ]
  },
  {
   "cell_type": "code",
   "execution_count": 10,
   "metadata": {},
   "outputs": [
    {
     "data": {
      "text/plain": [
       "(2, 1)"
      ]
     },
     "execution_count": 10,
     "metadata": {},
     "output_type": "execute_result"
    }
   ],
   "source": [
    "nrv.location"
   ]
  },
  {
   "cell_type": "code",
   "execution_count": 11,
   "metadata": {},
   "outputs": [
    {
     "data": {
      "text/plain": [
       "23"
      ]
     },
     "execution_count": 11,
     "metadata": {},
     "output_type": "execute_result"
    }
   ],
   "source": [
    "nrv.performance"
   ]
  },
  {
   "cell_type": "code",
   "execution_count": 12,
   "metadata": {},
   "outputs": [
    {
     "name": "stdout",
     "output_type": "stream",
     "text": [
      "hours\n",
      "# is it greater than 0?\n",
      " OK  got: 2 expected: <function main.<locals>.<lambda> at 0x112965760>\n",
      "NewVacuumEnvironment - Walls\n",
      " OK  got: '[[[<Wall>], [<Wall>], [<Wall>], [<Wall>], [<Wall>]], [[<Wall>], [], [], [], [<Wall>]], [[<Wall>], [], [], [], [<Wall>]], [[<Wall>], [], [], [], [<Wall>]], [[<Wall>], [<Wall>], [<Wall>], [<Wall>], [<Wall>]]]' expected: '[[[<Wall>], [<Wall>], [<Wall>], [<Wall>], [<Wall>]], [[<Wall>], [], [], [], [<Wall>]], [[<Wall>], [], [], [], [<Wall>]], [[<Wall>], [], [], [], [<Wall>]], [[<Wall>], [<Wall>], [<Wall>], [<Wall>], [<Wall>]]]'\n",
      "NewVacuumEnvironment - Dirt\n",
      " OK  got: 160 expected: <function main.<locals>.<lambda> at 0x1117ff880>\n",
      "NewVacuumEnvironment - Very Clean\n",
      " OK  got: 0 expected: 0\n",
      "NewVacuumEnvironment - Very Dirty\n",
      " OK  got: 324 expected: 324\n",
      "TraceAgent and BetterReflexVacuumAgent\n",
      "<Agent> perceives ('Dirty', 'None') and does Suck at (1, 1)\n",
      " OK  got: (1, 1) expected: (1, 1)\n",
      " OK  got: 10 expected: 10\n",
      "<Agent> perceives ('Clean', 'None') and does Up at (1, 1)\n",
      "<Agent> perceives ('Clean', 'None') and does Right at (1, 1)\n",
      "<Agent> perceives ('Dirty', 'None') and does Suck at (2, 1)\n",
      "<Agent> perceives ('Clean', 'None') and does Left at (2, 1)\n",
      "<Agent> perceives ('Clean', 'None') and does Down at (1, 1)\n",
      "<Agent> perceives ('Dirty', 'None') and does Suck at (1, 2)\n",
      "<Agent> perceives ('Clean', 'None') and does Left at (1, 2)\n",
      "<Agent> perceives ('Clean', 'None') and does Down at (1, 2)\n",
      "<Agent> perceives ('Dirty', 'None') and does Suck at (1, 3)\n",
      "<Agent> perceives ('Clean', 'None') and does Left at (1, 3)\n",
      "<Agent> perceives ('Clean', 'None') and does Right at (1, 3)\n",
      "<Agent> perceives ('Dirty', 'None') and does Suck at (2, 3)\n",
      "<Agent> perceives ('Clean', 'None') and does Left at (2, 3)\n",
      "<Agent> perceives ('Clean', 'None') and does Left at (1, 3)\n",
      "<Agent> perceives ('Clean', 'None') and does Down at (1, 3)\n",
      "<Agent> perceives ('Dirty', 'None') and does Suck at (1, 4)\n",
      "<Agent> perceives ('Clean', 'None') and does Down at (1, 4)\n",
      "<Agent> perceives ('Dirty', 'None') and does Suck at (1, 5)\n",
      "<Agent> perceives ('Clean', 'None') and does Left at (1, 5)\n",
      "<Agent> perceives ('Clean', 'None') and does Down at (1, 5)\n",
      " OK  got: 56 expected: <function main.<locals>.<lambda> at 0x11152cf40>\n"
     ]
    }
   ],
   "source": [
    "main()"
   ]
  },
  {
   "cell_type": "markdown",
   "metadata": {},
   "source": [
    "Below we demonstrate the testing code from the end of agents.py"
   ]
  },
  {
   "cell_type": "code",
   "execution_count": 13,
   "metadata": {},
   "outputs": [],
   "source": [
    "environment = TrivialVacuumEnvironment"
   ]
  },
  {
   "cell_type": "code",
   "execution_count": 14,
   "metadata": {},
   "outputs": [],
   "source": [
    "agents = [ModelBasedVacuumAgent, ReflexVacuumAgent]"
   ]
  },
  {
   "cell_type": "code",
   "execution_count": 15,
   "metadata": {},
   "outputs": [],
   "source": [
    "result = compare_agents(environment, agents)"
   ]
  },
  {
   "cell_type": "code",
   "execution_count": 16,
   "metadata": {},
   "outputs": [
    {
     "data": {
      "text/plain": [
       "[(<function agents.ModelBasedVacuumAgent()>, 8),\n",
       " (<function agents.ReflexVacuumAgent()>, -990.1)]"
      ]
     },
     "execution_count": 16,
     "metadata": {},
     "output_type": "execute_result"
    }
   ],
   "source": [
    "result"
   ]
  },
  {
   "cell_type": "code",
   "execution_count": null,
   "metadata": {},
   "outputs": [],
   "source": []
  },
  {
   "cell_type": "code",
   "execution_count": null,
   "metadata": {},
   "outputs": [],
   "source": []
  },
  {
   "cell_type": "code",
   "execution_count": null,
   "metadata": {},
   "outputs": [],
   "source": []
  }
 ],
 "metadata": {
  "kernelspec": {
   "display_name": "Python 3 (ipykernel)",
   "language": "python",
   "name": "python3"
  },
  "language_info": {
   "codemirror_mode": {
    "name": "ipython",
    "version": 3
   },
   "file_extension": ".py",
   "mimetype": "text/x-python",
   "name": "python",
   "nbconvert_exporter": "python",
   "pygments_lexer": "ipython3",
   "version": "3.11.2"
  }
 },
 "nbformat": 4,
 "nbformat_minor": 2
}
