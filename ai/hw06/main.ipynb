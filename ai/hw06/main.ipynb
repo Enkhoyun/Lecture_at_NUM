import os
import pandas as pd

# Define the path to your spam and ham folders for train and dev sets
train_spam_folder = '/Users/baljinnyam/Downloads/spam_data/train/spam'
train_ham_folder = '/Users/baljinnyam/Downloads/spam_data/train/ham'
dev_spam_folder = '/Users/baljinnyam/Downloads/spam_data/dev/spam'
dev_ham_folder = '/Users/baljinnyam/Downloads/spam_data/dev/ham'

# Define a function to read in the email text from a folder and return a dataframe of word counts
def create_word_counts_dataframe(folder_path):
    # Initialize an empty list to store the email text
    email_text = []

    # Loop through each file in the folder and append the contents to the email_text list
    for filename in os.listdir(folder_path):
        try:
            with open(os.path.join(folder_path, filename), 'r', encoding='utf-8') as f:
                email_text.append(f.read())
        except UnicodeDecodeError:
            print(f"Error: could not read file {filename} due to encoding issue")

    # Use the CountVectorizer from scikit-learn to transform the email text into a sparse matrix of word counts
    from sklearn.feature_extraction.text import CountVectorizer

    vectorizer = CountVectorizer()
    X = vectorizer.fit_transform(email_text)

    # Create a pandas dataframe from the sparse matrix
    df = pd.DataFrame(X.toarray(), columns=vectorizer.get_feature_names_out())

    # Drop the "Subject" column if it exists
    if "Subject" in df.columns:
        df = df.drop("Subject", axis=1)

    # Rearrange the columns in order of descending word frequency
    word_freqs = df.sum(axis=0)
    df = df[word_freqs.sort_values(ascending=False).index]

    return df

# Create dataframes for the train_spam and train_ham folders
train_spam_df = create_word_counts_dataframe(train_spam_folder)
train_ham_df = create_word_counts_dataframe(train_ham_folder)

# Create dataframes for the dev_spam and dev_ham folders
dev_spam_df = create_word_counts_dataframe(dev_spam_folder)
dev_ham_df = create_word_counts_dataframe(dev_ham_folder)

