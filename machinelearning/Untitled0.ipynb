{
  "nbformat": 4,
  "nbformat_minor": 0,
  "metadata": {
    "colab": {
      "provenance": []
    },
    "kernelspec": {
      "name": "python3",
      "display_name": "Python 3"
    },
    "language_info": {
      "name": "python"
    }
  },
  "cells": [
    {
      "cell_type": "markdown",
      "source": [
        "### 1. Өгөгдсөн хүснэгтээс нийт ялгаатай утгатай элемэнтүүдийн тоог ол."
      ],
      "metadata": {
        "id": "-PSZVruasJxj"
      }
    },
    {
      "cell_type": "code",
      "execution_count": null,
      "metadata": {
        "colab": {
          "base_uri": "https://localhost:8080/"
        },
        "id": "RLf2Pa3TrONs",
        "outputId": "e7e0731c-c7c8-4657-9f14-568006712865"
      },
      "outputs": [
        {
          "output_type": "stream",
          "name": "stdout",
          "text": [
            "{3, 'a', 'hehe'}\n"
          ]
        }
      ],
      "source": [
        "input = [\"a\",3,\"hehe\",\"hehe\"]\n",
        "result = set()\n",
        "for x in input:\n",
        "  result.add(x)\n",
        "print(result)"
      ]
    },
    {
      "cell_type": "markdown",
      "source": [],
      "metadata": {
        "id": "eCWT9TT1uUOV"
      }
    },
    {
      "cell_type": "markdown",
      "source": [
        "### 2. Өгөгдсөн өгүүлбэрийн үг бүр нь хэдэн удаа давтагдсанг ол."
      ],
      "metadata": {
        "id": "pHDVxHcIs87w"
      }
    },
    {
      "cell_type": "code",
      "source": [
        "input = \"never gonna let you down never gonna give you up\"\n",
        "words = input.split()\n",
        "result = {}\n",
        "for x in words:\n",
        "  result[x]=result.get(x,0)+1\n",
        "for key,value in result.items():\n",
        "  print(key,\" : \",value)\n",
        "  "
      ],
      "metadata": {
        "colab": {
          "base_uri": "https://localhost:8080/"
        },
        "id": "7vZN4ngctHKr",
        "outputId": "0537e70c-d83c-44ab-a8cc-8a4f1d78fed1"
      },
      "execution_count": null,
      "outputs": [
        {
          "output_type": "stream",
          "name": "stdout",
          "text": [
            "never  :  2\n",
            "gonna  :  2\n",
            "let  :  1\n",
            "you  :  2\n",
            "down  :  1\n",
            "give  :  1\n",
            "up  :  1\n"
          ]
        }
      ]
    },
    {
      "cell_type": "markdown",
      "source": [
        "### 3. Өгөгдсөн хүснэгтээс 'xyz' тэмдэгт мөрийг агуулсан тэмдэгт мөрүүдийг хэвлэ."
      ],
      "metadata": {
        "id": "AYAzeSgzsARg"
      }
    },
    {
      "cell_type": "code",
      "source": [
        "test = [\"xyz\", \"x a z\"]\n",
        "for x in test:\n",
        "    if \"xyz\" in x:\n",
        "        print(x)\n"
      ],
      "metadata": {
        "id": "bWCi6nHNtHwb"
      },
      "execution_count": null,
      "outputs": []
    },
    {
      "cell_type": "markdown",
      "source": [
        "### 4. Өгөгдсөн хүснэгтээс 'xyz' тэмдэгт мөрөөр эхэлсэн эсвэл төгссөн тэмдэгт мөрүүдийг хэвлэ."
      ],
      "metadata": {
        "id": "iSzzLIOztC2a"
      }
    },
    {
      "cell_type": "code",
      "source": [
        "test = [\"xyz\", \"x a z\"]\n",
        "for x in test:\n",
        "    if x.startswith(\"xyz\") or x.endswith(\"xyz\"):\n",
        "        print(x)\n"
      ],
      "metadata": {
        "id": "brWGvcj7tI07"
      },
      "execution_count": null,
      "outputs": []
    },
    {
      "cell_type": "markdown",
      "source": [
        "### 5. Хамгийн эхний анхны 50 тоог олох функц бич."
      ],
      "metadata": {
        "id": "FBkwIqaZtFXk"
      }
    },
    {
      "cell_type": "code",
      "source": [
        "\n",
        "def printprime(until):\n",
        "    primes = [1]\n",
        "    number = 2\n",
        "    while len(primes) < until:\n",
        "        isPrime = True\n",
        "        for x in range(2, number):\n",
        "            if number % x == 0:\n",
        "                isPrime = False\n",
        "        if isPrime:\n",
        "            primes.append(number)\n",
        "        number += 1\n",
        "    for x in primes:\n",
        "        print(x)\n",
        "\n",
        "\n",
        "printprime(50)\n"
      ],
      "metadata": {
        "id": "b9wbsUg6tJbM",
        "colab": {
          "base_uri": "https://localhost:8080/"
        },
        "outputId": "27abe542-05eb-47e7-9d22-0525c4340b05"
      },
      "execution_count": null,
      "outputs": [
        {
          "output_type": "stream",
          "name": "stdout",
          "text": [
            "1\n",
            "2\n",
            "3\n",
            "5\n",
            "7\n",
            "11\n",
            "13\n",
            "17\n",
            "19\n",
            "23\n",
            "29\n",
            "31\n",
            "37\n",
            "41\n",
            "43\n",
            "47\n",
            "53\n",
            "59\n",
            "61\n",
            "67\n",
            "71\n",
            "73\n",
            "79\n",
            "83\n",
            "89\n",
            "97\n",
            "101\n",
            "103\n",
            "107\n",
            "109\n",
            "113\n",
            "127\n",
            "131\n",
            "137\n",
            "139\n",
            "149\n",
            "151\n",
            "157\n",
            "163\n",
            "167\n",
            "173\n",
            "179\n",
            "181\n",
            "191\n",
            "193\n",
            "197\n",
            "199\n",
            "211\n",
            "223\n",
            "227\n"
          ]
        }
      ]
    }
  ]
}